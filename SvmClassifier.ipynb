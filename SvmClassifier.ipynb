{
 "cells": [
  {
   "cell_type": "code",
   "execution_count": 1,
   "id": "059c67b9",
   "metadata": {},
   "outputs": [
    {
     "name": "stdout",
     "output_type": "stream",
     "text": [
      "bankDataset\\UniversalBank.csv\n"
     ]
    }
   ],
   "source": [
    "import numpy as np \n",
    "import pandas as pd \n",
    "import matplotlib.pyplot as plt \n",
    "import seaborn as sns \n",
    "%matplotlib inline\n",
    "\n",
    "import os\n",
    "for dirname, _, filenames in os.walk('bankDataset'):\n",
    "    for filename in filenames:\n",
    "        print(os.path.join(dirname, filename))"
   ]
  },
  {
   "cell_type": "code",
   "execution_count": 2,
   "id": "875ba55c",
   "metadata": {},
   "outputs": [],
   "source": [
    "import warnings\n",
    "warnings.filterwarnings('ignore')"
   ]
  },
  {
   "cell_type": "code",
   "execution_count": 3,
   "id": "890bab82",
   "metadata": {},
   "outputs": [],
   "source": [
    "data = 'bankDataset/UniversalBank.csv'\n",
    "\n",
    "df = pd.read_csv(data)"
   ]
  },
  {
   "cell_type": "code",
   "execution_count": 4,
   "id": "0f2587a9",
   "metadata": {},
   "outputs": [
    {
     "data": {
      "text/plain": [
       "(5000, 14)"
      ]
     },
     "execution_count": 4,
     "metadata": {},
     "output_type": "execute_result"
    }
   ],
   "source": [
    "df.shape"
   ]
  },
  {
   "cell_type": "code",
   "execution_count": 5,
   "id": "b55cedb1",
   "metadata": {},
   "outputs": [
    {
     "data": {
      "text/html": [
       "<div>\n",
       "<style scoped>\n",
       "    .dataframe tbody tr th:only-of-type {\n",
       "        vertical-align: middle;\n",
       "    }\n",
       "\n",
       "    .dataframe tbody tr th {\n",
       "        vertical-align: top;\n",
       "    }\n",
       "\n",
       "    .dataframe thead th {\n",
       "        text-align: right;\n",
       "    }\n",
       "</style>\n",
       "<table border=\"1\" class=\"dataframe\">\n",
       "  <thead>\n",
       "    <tr style=\"text-align: right;\">\n",
       "      <th></th>\n",
       "      <th>ID</th>\n",
       "      <th>Age</th>\n",
       "      <th>Experience</th>\n",
       "      <th>Income</th>\n",
       "      <th>ZIP Code</th>\n",
       "      <th>Family</th>\n",
       "      <th>CCAvg</th>\n",
       "      <th>Education</th>\n",
       "      <th>Mortgage</th>\n",
       "      <th>Personal Loan</th>\n",
       "      <th>Securities Account</th>\n",
       "      <th>CD Account</th>\n",
       "      <th>Online</th>\n",
       "      <th>CreditCard</th>\n",
       "    </tr>\n",
       "  </thead>\n",
       "  <tbody>\n",
       "    <tr>\n",
       "      <th>0</th>\n",
       "      <td>1</td>\n",
       "      <td>25</td>\n",
       "      <td>1</td>\n",
       "      <td>49</td>\n",
       "      <td>91107</td>\n",
       "      <td>4</td>\n",
       "      <td>1.6</td>\n",
       "      <td>1</td>\n",
       "      <td>0</td>\n",
       "      <td>0</td>\n",
       "      <td>1</td>\n",
       "      <td>0</td>\n",
       "      <td>0</td>\n",
       "      <td>0</td>\n",
       "    </tr>\n",
       "    <tr>\n",
       "      <th>1</th>\n",
       "      <td>2</td>\n",
       "      <td>45</td>\n",
       "      <td>19</td>\n",
       "      <td>34</td>\n",
       "      <td>90089</td>\n",
       "      <td>3</td>\n",
       "      <td>1.5</td>\n",
       "      <td>1</td>\n",
       "      <td>0</td>\n",
       "      <td>0</td>\n",
       "      <td>1</td>\n",
       "      <td>0</td>\n",
       "      <td>0</td>\n",
       "      <td>0</td>\n",
       "    </tr>\n",
       "    <tr>\n",
       "      <th>2</th>\n",
       "      <td>3</td>\n",
       "      <td>39</td>\n",
       "      <td>15</td>\n",
       "      <td>11</td>\n",
       "      <td>94720</td>\n",
       "      <td>1</td>\n",
       "      <td>1.0</td>\n",
       "      <td>1</td>\n",
       "      <td>0</td>\n",
       "      <td>0</td>\n",
       "      <td>0</td>\n",
       "      <td>0</td>\n",
       "      <td>0</td>\n",
       "      <td>0</td>\n",
       "    </tr>\n",
       "    <tr>\n",
       "      <th>3</th>\n",
       "      <td>4</td>\n",
       "      <td>35</td>\n",
       "      <td>9</td>\n",
       "      <td>100</td>\n",
       "      <td>94112</td>\n",
       "      <td>1</td>\n",
       "      <td>2.7</td>\n",
       "      <td>2</td>\n",
       "      <td>0</td>\n",
       "      <td>0</td>\n",
       "      <td>0</td>\n",
       "      <td>0</td>\n",
       "      <td>0</td>\n",
       "      <td>0</td>\n",
       "    </tr>\n",
       "    <tr>\n",
       "      <th>4</th>\n",
       "      <td>5</td>\n",
       "      <td>35</td>\n",
       "      <td>8</td>\n",
       "      <td>45</td>\n",
       "      <td>91330</td>\n",
       "      <td>4</td>\n",
       "      <td>1.0</td>\n",
       "      <td>2</td>\n",
       "      <td>0</td>\n",
       "      <td>0</td>\n",
       "      <td>0</td>\n",
       "      <td>0</td>\n",
       "      <td>0</td>\n",
       "      <td>1</td>\n",
       "    </tr>\n",
       "  </tbody>\n",
       "</table>\n",
       "</div>"
      ],
      "text/plain": [
       "   ID  Age  Experience  Income  ZIP Code  Family  CCAvg  Education  Mortgage  \\\n",
       "0   1   25           1      49     91107       4    1.6          1         0   \n",
       "1   2   45          19      34     90089       3    1.5          1         0   \n",
       "2   3   39          15      11     94720       1    1.0          1         0   \n",
       "3   4   35           9     100     94112       1    2.7          2         0   \n",
       "4   5   35           8      45     91330       4    1.0          2         0   \n",
       "\n",
       "   Personal Loan  Securities Account  CD Account  Online  CreditCard  \n",
       "0              0                   1           0       0           0  \n",
       "1              0                   1           0       0           0  \n",
       "2              0                   0           0       0           0  \n",
       "3              0                   0           0       0           0  \n",
       "4              0                   0           0       0           1  "
      ]
     },
     "execution_count": 5,
     "metadata": {},
     "output_type": "execute_result"
    }
   ],
   "source": [
    "df.head()"
   ]
  },
  {
   "cell_type": "code",
   "execution_count": 6,
   "id": "28727f9a",
   "metadata": {},
   "outputs": [
    {
     "data": {
      "text/plain": [
       "Index(['ID', 'Age', 'Experience', 'Income', 'ZIP Code', 'Family', 'CCAvg',\n",
       "       'Education', 'Mortgage', 'Personal Loan', 'Securities Account',\n",
       "       'CD Account', 'Online', 'CreditCard'],\n",
       "      dtype='object')"
      ]
     },
     "execution_count": 6,
     "metadata": {},
     "output_type": "execute_result"
    }
   ],
   "source": [
    "df.columns"
   ]
  },
  {
   "cell_type": "code",
   "execution_count": 7,
   "id": "a2a0d7cb",
   "metadata": {},
   "outputs": [],
   "source": [
    "X = df.drop(['CreditCard'], axis=1)\n",
    "\n",
    "y = df['CreditCard']"
   ]
  },
  {
   "cell_type": "code",
   "execution_count": 8,
   "id": "9cd0a074",
   "metadata": {},
   "outputs": [],
   "source": [
    "from sklearn.model_selection import train_test_split\n",
    "\n",
    "X_train, X_test, y_train, y_test = train_test_split(X, y, test_size = 0.2, random_state = 0)"
   ]
  },
  {
   "cell_type": "code",
   "execution_count": 9,
   "id": "0fc307b3",
   "metadata": {},
   "outputs": [
    {
     "data": {
      "text/plain": [
       "((4000, 13), (1000, 13))"
      ]
     },
     "execution_count": 9,
     "metadata": {},
     "output_type": "execute_result"
    }
   ],
   "source": [
    "X_train.shape, X_test.shape"
   ]
  },
  {
   "cell_type": "code",
   "execution_count": 10,
   "id": "d009c1dd",
   "metadata": {},
   "outputs": [],
   "source": [
    "cols = X_train.columns"
   ]
  },
  {
   "cell_type": "code",
   "execution_count": 11,
   "id": "eb123b59",
   "metadata": {},
   "outputs": [],
   "source": [
    "from sklearn.preprocessing import StandardScaler\n",
    "\n",
    "scaler = StandardScaler()\n",
    "\n",
    "X_train = scaler.fit_transform(X_train)\n",
    "\n",
    "X_test = scaler.transform(X_test)"
   ]
  },
  {
   "cell_type": "code",
   "execution_count": 12,
   "id": "f6d23634",
   "metadata": {},
   "outputs": [],
   "source": [
    "X_train = pd.DataFrame(X_train, columns=[cols])"
   ]
  },
  {
   "cell_type": "code",
   "execution_count": 13,
   "id": "923ae8a7",
   "metadata": {},
   "outputs": [],
   "source": [
    "X_test = pd.DataFrame(X_test, columns=[cols])"
   ]
  },
  {
   "cell_type": "code",
   "execution_count": 14,
   "id": "5de65c73",
   "metadata": {},
   "outputs": [
    {
     "data": {
      "text/html": [
       "<div>\n",
       "<style scoped>\n",
       "    .dataframe tbody tr th:only-of-type {\n",
       "        vertical-align: middle;\n",
       "    }\n",
       "\n",
       "    .dataframe tbody tr th {\n",
       "        vertical-align: top;\n",
       "    }\n",
       "\n",
       "    .dataframe thead tr th {\n",
       "        text-align: left;\n",
       "    }\n",
       "</style>\n",
       "<table border=\"1\" class=\"dataframe\">\n",
       "  <thead>\n",
       "    <tr>\n",
       "      <th></th>\n",
       "      <th>ID</th>\n",
       "      <th>Age</th>\n",
       "      <th>Experience</th>\n",
       "      <th>Income</th>\n",
       "      <th>ZIP Code</th>\n",
       "      <th>Family</th>\n",
       "      <th>CCAvg</th>\n",
       "      <th>Education</th>\n",
       "      <th>Mortgage</th>\n",
       "      <th>Personal Loan</th>\n",
       "      <th>Securities Account</th>\n",
       "      <th>CD Account</th>\n",
       "      <th>Online</th>\n",
       "    </tr>\n",
       "  </thead>\n",
       "  <tbody>\n",
       "    <tr>\n",
       "      <th>count</th>\n",
       "      <td>4.000000e+03</td>\n",
       "      <td>4.000000e+03</td>\n",
       "      <td>4.000000e+03</td>\n",
       "      <td>4.000000e+03</td>\n",
       "      <td>4.000000e+03</td>\n",
       "      <td>4.000000e+03</td>\n",
       "      <td>4.000000e+03</td>\n",
       "      <td>4.000000e+03</td>\n",
       "      <td>4.000000e+03</td>\n",
       "      <td>4.000000e+03</td>\n",
       "      <td>4.000000e+03</td>\n",
       "      <td>4.000000e+03</td>\n",
       "      <td>4.000000e+03</td>\n",
       "    </tr>\n",
       "    <tr>\n",
       "      <th>mean</th>\n",
       "      <td>1.047148e-16</td>\n",
       "      <td>8.820722e-17</td>\n",
       "      <td>-9.203749e-17</td>\n",
       "      <td>-4.454770e-17</td>\n",
       "      <td>2.580948e-15</td>\n",
       "      <td>-3.212985e-16</td>\n",
       "      <td>1.693090e-18</td>\n",
       "      <td>-6.400436e-17</td>\n",
       "      <td>1.387224e-16</td>\n",
       "      <td>-7.638334e-17</td>\n",
       "      <td>6.427220e-16</td>\n",
       "      <td>-7.165379e-16</td>\n",
       "      <td>2.525757e-16</td>\n",
       "    </tr>\n",
       "    <tr>\n",
       "      <th>std</th>\n",
       "      <td>1.000125e+00</td>\n",
       "      <td>1.000125e+00</td>\n",
       "      <td>1.000125e+00</td>\n",
       "      <td>1.000125e+00</td>\n",
       "      <td>1.000125e+00</td>\n",
       "      <td>1.000125e+00</td>\n",
       "      <td>1.000125e+00</td>\n",
       "      <td>1.000125e+00</td>\n",
       "      <td>1.000125e+00</td>\n",
       "      <td>1.000125e+00</td>\n",
       "      <td>1.000125e+00</td>\n",
       "      <td>1.000125e+00</td>\n",
       "      <td>1.000125e+00</td>\n",
       "    </tr>\n",
       "    <tr>\n",
       "      <th>min</th>\n",
       "      <td>-1.732418e+00</td>\n",
       "      <td>-1.941993e+00</td>\n",
       "      <td>-2.006748e+00</td>\n",
       "      <td>-1.425882e+00</td>\n",
       "      <td>-3.807548e+01</td>\n",
       "      <td>-1.212103e+00</td>\n",
       "      <td>-1.108479e+00</td>\n",
       "      <td>-1.046601e+00</td>\n",
       "      <td>-5.517533e-01</td>\n",
       "      <td>-3.286841e-01</td>\n",
       "      <td>-3.461515e-01</td>\n",
       "      <td>-2.543212e-01</td>\n",
       "      <td>-1.211451e+00</td>\n",
       "    </tr>\n",
       "    <tr>\n",
       "      <th>25%</th>\n",
       "      <td>-8.646705e-01</td>\n",
       "      <td>-8.975483e-01</td>\n",
       "      <td>-8.768221e-01</td>\n",
       "      <td>-7.560813e-01</td>\n",
       "      <td>-5.463612e-01</td>\n",
       "      <td>-1.212103e+00</td>\n",
       "      <td>-7.101091e-01</td>\n",
       "      <td>-1.046601e+00</td>\n",
       "      <td>-5.517533e-01</td>\n",
       "      <td>-3.286841e-01</td>\n",
       "      <td>-3.461515e-01</td>\n",
       "      <td>-2.543212e-01</td>\n",
       "      <td>-1.211451e+00</td>\n",
       "    </tr>\n",
       "    <tr>\n",
       "      <th>50%</th>\n",
       "      <td>-1.323063e-02</td>\n",
       "      <td>-2.717733e-02</td>\n",
       "      <td>-7.648726e-03</td>\n",
       "      <td>-2.159191e-01</td>\n",
       "      <td>1.194385e-01</td>\n",
       "      <td>-3.433677e-01</td>\n",
       "      <td>-2.548298e-01</td>\n",
       "      <td>1.498563e-01</td>\n",
       "      <td>-5.517533e-01</td>\n",
       "      <td>-3.286841e-01</td>\n",
       "      <td>-3.461515e-01</td>\n",
       "      <td>-2.543212e-01</td>\n",
       "      <td>8.254567e-01</td>\n",
       "    </tr>\n",
       "    <tr>\n",
       "      <th>75%</th>\n",
       "      <td>8.637108e-01</td>\n",
       "      <td>8.431936e-01</td>\n",
       "      <td>8.615247e-01</td>\n",
       "      <td>5.403081e-01</td>\n",
       "      <td>6.648856e-01</td>\n",
       "      <td>5.253678e-01</td>\n",
       "      <td>3.711793e-01</td>\n",
       "      <td>1.346314e+00</td>\n",
       "      <td>4.270241e-01</td>\n",
       "      <td>-3.286841e-01</td>\n",
       "      <td>-3.461515e-01</td>\n",
       "      <td>-2.543212e-01</td>\n",
       "      <td>8.254567e-01</td>\n",
       "    </tr>\n",
       "    <tr>\n",
       "      <th>max</th>\n",
       "      <td>1.736489e+00</td>\n",
       "      <td>1.887639e+00</td>\n",
       "      <td>1.991450e+00</td>\n",
       "      <td>3.241119e+00</td>\n",
       "      <td>1.592736e+00</td>\n",
       "      <td>1.394103e+00</td>\n",
       "      <td>4.582513e+00</td>\n",
       "      <td>1.346314e+00</td>\n",
       "      <td>5.790325e+00</td>\n",
       "      <td>3.042435e+00</td>\n",
       "      <td>2.888909e+00</td>\n",
       "      <td>3.932036e+00</td>\n",
       "      <td>8.254567e-01</td>\n",
       "    </tr>\n",
       "  </tbody>\n",
       "</table>\n",
       "</div>"
      ],
      "text/plain": [
       "                 ID           Age    Experience        Income      ZIP Code  \\\n",
       "count  4.000000e+03  4.000000e+03  4.000000e+03  4.000000e+03  4.000000e+03   \n",
       "mean   1.047148e-16  8.820722e-17 -9.203749e-17 -4.454770e-17  2.580948e-15   \n",
       "std    1.000125e+00  1.000125e+00  1.000125e+00  1.000125e+00  1.000125e+00   \n",
       "min   -1.732418e+00 -1.941993e+00 -2.006748e+00 -1.425882e+00 -3.807548e+01   \n",
       "25%   -8.646705e-01 -8.975483e-01 -8.768221e-01 -7.560813e-01 -5.463612e-01   \n",
       "50%   -1.323063e-02 -2.717733e-02 -7.648726e-03 -2.159191e-01  1.194385e-01   \n",
       "75%    8.637108e-01  8.431936e-01  8.615247e-01  5.403081e-01  6.648856e-01   \n",
       "max    1.736489e+00  1.887639e+00  1.991450e+00  3.241119e+00  1.592736e+00   \n",
       "\n",
       "             Family         CCAvg     Education      Mortgage Personal Loan  \\\n",
       "count  4.000000e+03  4.000000e+03  4.000000e+03  4.000000e+03  4.000000e+03   \n",
       "mean  -3.212985e-16  1.693090e-18 -6.400436e-17  1.387224e-16 -7.638334e-17   \n",
       "std    1.000125e+00  1.000125e+00  1.000125e+00  1.000125e+00  1.000125e+00   \n",
       "min   -1.212103e+00 -1.108479e+00 -1.046601e+00 -5.517533e-01 -3.286841e-01   \n",
       "25%   -1.212103e+00 -7.101091e-01 -1.046601e+00 -5.517533e-01 -3.286841e-01   \n",
       "50%   -3.433677e-01 -2.548298e-01  1.498563e-01 -5.517533e-01 -3.286841e-01   \n",
       "75%    5.253678e-01  3.711793e-01  1.346314e+00  4.270241e-01 -3.286841e-01   \n",
       "max    1.394103e+00  4.582513e+00  1.346314e+00  5.790325e+00  3.042435e+00   \n",
       "\n",
       "      Securities Account    CD Account        Online  \n",
       "count       4.000000e+03  4.000000e+03  4.000000e+03  \n",
       "mean        6.427220e-16 -7.165379e-16  2.525757e-16  \n",
       "std         1.000125e+00  1.000125e+00  1.000125e+00  \n",
       "min        -3.461515e-01 -2.543212e-01 -1.211451e+00  \n",
       "25%        -3.461515e-01 -2.543212e-01 -1.211451e+00  \n",
       "50%        -3.461515e-01 -2.543212e-01  8.254567e-01  \n",
       "75%        -3.461515e-01 -2.543212e-01  8.254567e-01  \n",
       "max         2.888909e+00  3.932036e+00  8.254567e-01  "
      ]
     },
     "execution_count": 14,
     "metadata": {},
     "output_type": "execute_result"
    }
   ],
   "source": [
    "X_train.describe()"
   ]
  },
  {
   "cell_type": "code",
   "execution_count": 15,
   "id": "883fa050",
   "metadata": {},
   "outputs": [
    {
     "name": "stdout",
     "output_type": "stream",
     "text": [
      "Model accuracy : 0.7490\n"
     ]
    }
   ],
   "source": [
    "from sklearn.svm import SVC\n",
    "from sklearn.metrics import accuracy_score\n",
    "\n",
    "svc=SVC() \n",
    "svc.fit(X_train,y_train)\n",
    "\n",
    "y_pred=svc.predict(X_test)\n",
    "\n",
    "print('Model accuracy : {0:0.4f}'. format(accuracy_score(y_test, y_pred)))"
   ]
  },
  {
   "cell_type": "code",
   "execution_count": 16,
   "id": "ca29e376",
   "metadata": {},
   "outputs": [
    {
     "name": "stdout",
     "output_type": "stream",
     "text": [
      "C=10.0 Model accuracy with rbf kernel : 0.7350\n"
     ]
    }
   ],
   "source": [
    "svc=SVC(C=10.0) \n",
    "svc.fit(X_train,y_train)\n",
    "\n",
    "y_pred=svc.predict(X_test)\n",
    "\n",
    "print('C=10.0 Model accuracy with rbf kernel : {0:0.4f}'. format(accuracy_score(y_test, y_pred)))"
   ]
  },
  {
   "cell_type": "code",
   "execution_count": 17,
   "id": "f851fbad",
   "metadata": {},
   "outputs": [
    {
     "name": "stdout",
     "output_type": "stream",
     "text": [
      "C=100.0 Model accuracy with rbf kernel : 0.6970\n"
     ]
    }
   ],
   "source": [
    "svc=SVC(C=100.0) \n",
    "svc.fit(X_train,y_train)\n",
    "\n",
    "y_pred=svc.predict(X_test)\n",
    "\n",
    "print('C=100.0 Model accuracy with rbf kernel : {0:0.4f}'. format(accuracy_score(y_test, y_pred)))"
   ]
  },
  {
   "cell_type": "code",
   "execution_count": 18,
   "id": "db80613a",
   "metadata": {},
   "outputs": [
    {
     "name": "stdout",
     "output_type": "stream",
     "text": [
      "C=1.0 Model accuracy with linear kernel : 0.7470\n"
     ]
    }
   ],
   "source": [
    "linear_svc=SVC(kernel='linear', C=1.0) \n",
    "linear_svc.fit(X_train,y_train)\n",
    "\n",
    "y_pred_test=linear_svc.predict(X_test)\n",
    "\n",
    "print('C=1.0 Model accuracy with linear kernel : {0:0.4f}'. format(accuracy_score(y_test, y_pred_test)))"
   ]
  },
  {
   "cell_type": "code",
   "execution_count": 19,
   "id": "b68957c8",
   "metadata": {},
   "outputs": [
    {
     "name": "stdout",
     "output_type": "stream",
     "text": [
      "C=10.0 Model accuracy with linear kernel : 0.7470\n"
     ]
    }
   ],
   "source": [
    "linear_svc=SVC(kernel='linear', C=10.0) \n",
    "linear_svc.fit(X_train,y_train)\n",
    "\n",
    "y_pred_test=linear_svc.predict(X_test)\n",
    "\n",
    "print('C=10.0 Model accuracy with linear kernel : {0:0.4f}'. format(accuracy_score(y_test, y_pred_test)))"
   ]
  },
  {
   "cell_type": "code",
   "execution_count": 20,
   "id": "c85b1d3b",
   "metadata": {},
   "outputs": [
    {
     "name": "stdout",
     "output_type": "stream",
     "text": [
      " C=1.0 Model accuracy  with polynomial kernel : 0.7430\n"
     ]
    }
   ],
   "source": [
    "poly_svc=SVC(kernel='poly', C=1.0) \n",
    "poly_svc.fit(X_train,y_train)\n",
    "\n",
    "y_pred=poly_svc.predict(X_test)\n",
    "\n",
    "print(' C=1.0 Model accuracy  with polynomial kernel : {0:0.4f}'. format(accuracy_score(y_test, y_pred)))"
   ]
  },
  {
   "cell_type": "code",
   "execution_count": 21,
   "id": "8e5591be",
   "metadata": {},
   "outputs": [
    {
     "name": "stdout",
     "output_type": "stream",
     "text": [
      " C=10.0 Model accuracy  with polynomial kernel : 0.7370\n"
     ]
    }
   ],
   "source": [
    "poly_svc=SVC(kernel='poly', C=10.0) \n",
    "poly_svc.fit(X_train,y_train)\n",
    "\n",
    "y_pred=poly_svc.predict(X_test)\n",
    "\n",
    "print(' C=10.0 Model accuracy  with polynomial kernel : {0:0.4f}'. format(accuracy_score(y_test, y_pred)))"
   ]
  },
  {
   "cell_type": "code",
   "execution_count": 22,
   "id": "1d2dfe90",
   "metadata": {},
   "outputs": [
    {
     "name": "stdout",
     "output_type": "stream",
     "text": [
      "Confusion matrix\n",
      "\n",
      " [[696   8]\n",
      " [245  51]]\n",
      "\n",
      "True Positives(TP) =  696\n",
      "\n",
      "True Negatives(TN) =  51\n",
      "\n",
      "False Positives(FP) =  8\n",
      "\n",
      "False Negatives(FN) =  245\n"
     ]
    }
   ],
   "source": [
    "from sklearn.metrics import confusion_matrix\n",
    "\n",
    "cm = confusion_matrix(y_test, y_pred_test)\n",
    "\n",
    "print('Confusion matrix\\n\\n', cm)\n",
    "\n",
    "print('\\nTrue Positives(TP) = ', cm[0,0])\n",
    "\n",
    "print('\\nTrue Negatives(TN) = ', cm[1,1])\n",
    "\n",
    "print('\\nFalse Positives(FP) = ', cm[0,1])\n",
    "\n",
    "print('\\nFalse Negatives(FN) = ', cm[1,0])"
   ]
  },
  {
   "cell_type": "code",
   "execution_count": 23,
   "id": "9729fab6",
   "metadata": {},
   "outputs": [
    {
     "data": {
      "text/plain": [
       "<AxesSubplot:>"
      ]
     },
     "execution_count": 23,
     "metadata": {},
     "output_type": "execute_result"
    },
    {
     "data": {
      "image/png": "[encoded data removed]",
      "text/plain": [
       "<Figure size 432x288 with 2 Axes>"
      ]
     },
     "metadata": {
      "needs_background": "light"
     },
     "output_type": "display_data"
    }
   ],
   "source": [
    "cm_matrix = pd.DataFrame(data=cm, columns=['Actual Positive:1', 'Actual Negative:0'], \n",
    "                                 index=['Predict Positive:1', 'Predict Negative:0'])\n",
    "\n",
    "sns.heatmap(cm_matrix, annot=True, fmt='d', cmap='YlGnBu')"
   ]
  },
  {
   "cell_type": "code",
   "execution_count": 24,
   "id": "f645b2ed",
   "metadata": {},
   "outputs": [
    {
     "name": "stdout",
     "output_type": "stream",
     "text": [
      "              precision    recall  f1-score   support\n",
      "\n",
      "           0       0.74      0.99      0.85       704\n",
      "           1       0.86      0.17      0.29       296\n",
      "\n",
      "    accuracy                           0.75      1000\n",
      "   macro avg       0.80      0.58      0.57      1000\n",
      "weighted avg       0.78      0.75      0.68      1000\n",
      "\n"
     ]
    }
   ],
   "source": [
    "from sklearn.metrics import classification_report\n",
    "\n",
    "print(classification_report(y_test, y_pred_test))"
   ]
  },
  {
   "cell_type": "code",
   "execution_count": 26,
   "id": "a1c28846",
   "metadata": {},
   "outputs": [],
   "source": [
    "from sklearn.model_selection import KFold\n",
    "from sklearn.model_selection import cross_val_score\n",
    "\n",
    "\n",
    "kfold=KFold(n_splits=5, shuffle=True, random_state=0)\n",
    "\n",
    "\n",
    "linear_svc=SVC(kernel='linear')\n",
    "\n",
    "\n",
    "linear_scores = cross_val_score(linear_svc, X, y, cv=kfold)"
   ]
  },
  {
   "cell_type": "code",
   "execution_count": 27,
   "id": "4283ceda",
   "metadata": {},
   "outputs": [
    {
     "name": "stdout",
     "output_type": "stream",
     "text": [
      "Cross-validation with linear kernel:\n",
      "\n",
      "[0.704 0.704 0.721 0.686 0.716]\n"
     ]
    }
   ],
   "source": [
    "print('Cross-validation with linear kernel:\\n\\n{}'.format(linear_scores))"
   ]
  },
  {
   "cell_type": "code",
   "execution_count": 28,
   "id": "e1d4a5c9",
   "metadata": {},
   "outputs": [
    {
     "name": "stdout",
     "output_type": "stream",
     "text": [
      "Average cross-validation with linear kernel:0.7062\n"
     ]
    }
   ],
   "source": [
    "print('Average cross-validation with linear kernel:{:.4f}'.format(linear_scores.mean()))"
   ]
  },
  {
   "cell_type": "code",
   "execution_count": 29,
   "id": "4b2b5ce9",
   "metadata": {},
   "outputs": [],
   "source": [
    "rbf_svc=SVC(kernel='rbf')\n",
    "\n",
    "rbf_scores = cross_val_score(rbf_svc, X, y, cv=kfold)"
   ]
  },
  {
   "cell_type": "code",
   "execution_count": 33,
   "id": "5c171845",
   "metadata": {},
   "outputs": [
    {
     "name": "stdout",
     "output_type": "stream",
     "text": [
      "Cross-validation with rbf kernel:\n",
      "\n",
      "[0.704 0.703 0.721 0.686 0.716]\n"
     ]
    }
   ],
   "source": [
    "print('Cross-validation with rbf kernel:\\n\\n{}'.format(rbf_scores))"
   ]
  },
  {
   "cell_type": "code",
   "execution_count": 34,
   "id": "f034d248",
   "metadata": {},
   "outputs": [
    {
     "name": "stdout",
     "output_type": "stream",
     "text": [
      "Average cross-validation with rbf kernel:0.7060\n"
     ]
    }
   ],
   "source": [
    "print('Average cross-validation with rbf kernel:{:.4f}'.format(rbf_scores.mean()))"
   ]
  },
  {
   "cell_type": "code",
   "execution_count": 35,
   "id": "bd0f3363",
   "metadata": {},
   "outputs": [],
   "source": [
    "poly_svc=SVC(kernel='poly')\n",
    "\n",
    "poly_scores = cross_val_score(poly_svc, X, y, cv=kfold)"
   ]
  },
  {
   "cell_type": "code",
   "execution_count": 36,
   "id": "6bf87d28",
   "metadata": {},
   "outputs": [
    {
     "name": "stdout",
     "output_type": "stream",
     "text": [
      "Cross-validation with polynomial kernel:\n",
      "\n",
      "[0.704 0.703 0.721 0.686 0.716]\n"
     ]
    }
   ],
   "source": [
    "print('Cross-validation with polynomial kernel:\\n\\n{}'.format(poly_scores))"
   ]
  },
  {
   "cell_type": "code",
   "execution_count": 37,
   "id": "a639c0f9",
   "metadata": {},
   "outputs": [
    {
     "name": "stdout",
     "output_type": "stream",
     "text": [
      "Average cross-validation with polynomial kernel:0.7060\n"
     ]
    }
   ],
   "source": [
    "print('Average cross-validation with polynomial kernel:{:.4f}'.format(poly_scores.mean()))"
   ]
  },
  {
   "cell_type": "code",
   "execution_count": 38,
   "id": "732406df",
   "metadata": {},
   "outputs": [
    {
     "data": {
      "text/plain": [
       "GridSearchCV(cv=5, estimator=SVC(),\n",
       "             param_grid=[{'C': [1, 10, 50], 'kernel': ['linear']},\n",
       "                         {'C': [1, 10, 50], 'gamma': [0.1, 0.2, 0.5, 0.9],\n",
       "                          'kernel': ['rbf']},\n",
       "                         {'C': [1, 10, 50], 'gamma': [0.01, 0.02, 0.05],\n",
       "                          'kernel': ['poly']}],\n",
       "             scoring='accuracy')"
      ]
     },
     "execution_count": 38,
     "metadata": {},
     "output_type": "execute_result"
    }
   ],
   "source": [
    "from sklearn.model_selection import GridSearchCV\n",
    "\n",
    "from sklearn.svm import SVC\n",
    "\n",
    "svc=SVC() \n",
    "\n",
    "\n",
    "parameters = [ {'C':[1, 10, 50], 'kernel':['linear']},\n",
    "               {'C':[1, 10, 50], 'kernel':['rbf'], 'gamma':[0.1, 0.2, 0.5, 0.9]},\n",
    "               {'C':[1, 10, 50], 'kernel':['poly'],'gamma':[0.01,0.02,0.05]} \n",
    "              ]\n",
    "\n",
    "\n",
    "\n",
    "\n",
    "grid_search = GridSearchCV(estimator = svc,  \n",
    "                           param_grid = parameters,\n",
    "                           scoring = 'accuracy',\n",
    "                           cv = 5,\n",
    "                           verbose=0)\n",
    "\n",
    "\n",
    "grid_search.fit(X_train, y_train)"
   ]
  },
  {
   "cell_type": "code",
   "execution_count": 39,
   "id": "3bbd44c4",
   "metadata": {},
   "outputs": [
    {
     "name": "stdout",
     "output_type": "stream",
     "text": [
      "GridSearch CV best: 0.7443\n",
      "\n",
      "\n",
      "Best results : \n",
      "\n",
      " {'C': 50, 'gamma': 0.01, 'kernel': 'poly'}\n"
     ]
    }
   ],
   "source": [
    "print('GridSearch CV best: {:.4f}\\n\\n'.format(grid_search.best_score_))\n",
    "\n",
    "\n",
    "print('Best results :','\\n\\n', (grid_search.best_params_))"
   ]
  },
  {
   "cell_type": "code",
   "execution_count": 41,
   "id": "b8d6e984",
   "metadata": {},
   "outputs": [
    {
     "data": {
      "image/png": "[encoded data removed]",
      "text/plain": [
       "<Figure size 432x288 with 1 Axes>"
      ]
     },
     "metadata": {
      "needs_background": "light"
     },
     "output_type": "display_data"
    }
   ],
   "source": [
    "from sklearn.metrics import roc_curve\n",
    "\n",
    "fpr, tpr, thresholds = roc_curve(y_test, y_pred_test)\n",
    "\n",
    "plt.figure(figsize=(6,4))\n",
    "\n",
    "plt.plot(fpr, tpr, linewidth=2)\n",
    "\n",
    "plt.plot([0,1], [0,1], 'k--' )\n",
    "\n",
    "plt.rcParams['font.size'] = 12\n",
    "\n",
    "plt.title('Modal Performance')\n",
    "plt.xlabel('False Positive')\n",
    "\n",
    "plt.ylabel('True Positive')\n",
    "\n",
    "plt.show()"
   ]
  },
  {
   "cell_type": "code",
   "execution_count": null,
   "id": "b5c0a914",
   "metadata": {},
   "outputs": [],
   "source": []
  }
 ],
 "metadata": {
  "kernelspec": {
   "display_name": "Python 3",
   "language": "python",
   "name": "python3"
  },
  "language_info": {
   "codemirror_mode": {
    "name": "ipython",
    "version": 3
   },
   "file_extension": ".py",
   "mimetype": "text/x-python",
   "name": "python",
   "nbconvert_exporter": "python",
   "pygments_lexer": "ipython3",
   "version": "3.8.8"
  }
 },
 "nbformat": 4,
 "nbformat_minor": 5
}
